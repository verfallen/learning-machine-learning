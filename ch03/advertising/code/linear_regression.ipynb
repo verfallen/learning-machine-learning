{
 "cells": [
  {
   "cell_type": "code",
   "execution_count": 1,
   "id": "fdacf59c-44c2-423d-be1e-e5d53cfeda55",
   "metadata": {},
   "outputs": [],
   "source": [
    "import pandas as pd\n",
    "df_advertsing = pd.read_csv('../dataset/advertising.csv')"
   ]
  },
  {
   "cell_type": "code",
   "execution_count": null,
   "id": "0a7ccf05-0cb6-4b03-9786-fbe7551dc07b",
   "metadata": {},
   "outputs": [],
   "source": [
    "X = df_advertsing.drop(['sales'],axis=1)\n",
    "y = df_advertsing.sales.values"
   ]
  },
  {
   "cell_type": "code",
   "execution_count": 6,
   "id": "73b56c90-d55e-467e-aab0-28f568e8b8c2",
   "metadata": {},
   "outputs": [],
   "source": [
    "from sklearn.model_selection import train_test_split\n",
    "X_train,X_test,y_train,y_test = train_test_split(X,y,test_size=0.2,random_state=0)"
   ]
  },
  {
   "cell_type": "code",
   "execution_count": 7,
   "id": "def770d2-1507-41c2-b585-ac51b0551948",
   "metadata": {},
   "outputs": [
    {
     "data": {
      "text/plain": [
       "LinearRegression()"
      ]
     },
     "execution_count": 7,
     "metadata": {},
     "output_type": "execute_result"
    }
   ],
   "source": [
    "from sklearn.linear_model import LinearRegression\n",
    "\n",
    "model = LinearRegression()\n",
    "model.fit(X_train,y_train)"
   ]
  },
  {
   "cell_type": "code",
   "execution_count": 8,
   "id": "699badf2-4d15-457c-b167-e829235839cf",
   "metadata": {},
   "outputs": [
    {
     "name": "stdout",
     "output_type": "stream",
     "text": [
      "真值： [12.2 24.7 20.7 20.2  6.6 21.5 17.2 22.2  7.2 18.4 20.9 10.6 14.  18.9\n",
      " 24.2  5.7 13.2 22.6 20.1  1.6 15.5 16.6 20.7 10.8 26.2 11.3 16.4 10.7\n",
      " 20.9  8.7 10.1 20.8 12.6 17.5 20.7 19.9 20.2 22.1 11.9 11.8]\n",
      "预测值: [13.60415007 21.88029549 21.09110089 16.98642     9.67576823 21.00933678\n",
      " 16.05498814 22.14315987 10.94577636 17.75760977 17.99598814 10.51787949\n",
      " 10.11221927 20.26119768 23.38160174  8.23747564 14.00552519 20.65377319\n",
      " 20.09984796  9.30610687 13.10382393 16.61799614 18.98050068 11.19055852\n",
      " 24.82508697 10.6598931  15.80134455 10.98014308 21.1881734  10.79068526\n",
      " 10.00651438 22.41660897  8.78085905 17.65152609 19.42690382 16.62213576\n",
      " 21.17105397 21.20319544  8.80636592 11.50381985]\n"
     ]
    }
   ],
   "source": [
    "y_pred = model.predict(X_test)\n",
    "print(\"真值：\",y_test)\n",
    "print(\"预测值:\",y_pred)"
   ]
  },
  {
   "cell_type": "code",
   "execution_count": 9,
   "id": "77a9fa1d-7486-4c16-bf55-ff691251572b",
   "metadata": {},
   "outputs": [
    {
     "name": "stdout",
     "output_type": "stream",
     "text": [
      "给预测评分 0.8539354895079319\n"
     ]
    }
   ],
   "source": [
    "print('给预测评分',model.score(X_test,y_test))"
   ]
  }
 ],
 "metadata": {
  "kernelspec": {
   "display_name": "Python 3 (ipykernel)",
   "language": "python",
   "name": "python3"
  },
  "language_info": {
   "codemirror_mode": {
    "name": "ipython",
    "version": 3
   },
   "file_extension": ".py",
   "mimetype": "text/x-python",
   "name": "python",
   "nbconvert_exporter": "python",
   "pygments_lexer": "ipython3",
   "version": "3.9.2"
  }
 },
 "nbformat": 4,
 "nbformat_minor": 5
}
