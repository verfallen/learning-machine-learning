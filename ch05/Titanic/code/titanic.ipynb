{
 "cells": [
  {
   "cell_type": "code",
   "execution_count": 4,
   "metadata": {},
   "outputs": [
    {
     "data": {
      "text/html": [
       "<div>\n",
       "<style scoped>\n",
       "    .dataframe tbody tr th:only-of-type {\n",
       "        vertical-align: middle;\n",
       "    }\n",
       "\n",
       "    .dataframe tbody tr th {\n",
       "        vertical-align: top;\n",
       "    }\n",
       "\n",
       "    .dataframe thead th {\n",
       "        text-align: right;\n",
       "    }\n",
       "</style>\n",
       "<table border=\"1\" class=\"dataframe\">\n",
       "  <thead>\n",
       "    <tr style=\"text-align: right;\">\n",
       "      <th></th>\n",
       "      <th>PassengerId</th>\n",
       "      <th>Survived</th>\n",
       "      <th>Pclass</th>\n",
       "      <th>Name</th>\n",
       "      <th>Sex</th>\n",
       "      <th>Age</th>\n",
       "      <th>SibSp</th>\n",
       "      <th>Parch</th>\n",
       "      <th>Ticket</th>\n",
       "      <th>Fare</th>\n",
       "      <th>Cabin</th>\n",
       "      <th>Embarked</th>\n",
       "    </tr>\n",
       "  </thead>\n",
       "  <tbody>\n",
       "    <tr>\n",
       "      <th>0</th>\n",
       "      <td>1</td>\n",
       "      <td>0</td>\n",
       "      <td>3</td>\n",
       "      <td>Braund, Mr. Owen Harris</td>\n",
       "      <td>male</td>\n",
       "      <td>22.0</td>\n",
       "      <td>1</td>\n",
       "      <td>0</td>\n",
       "      <td>A/5 21171</td>\n",
       "      <td>7.2500</td>\n",
       "      <td>NaN</td>\n",
       "      <td>S</td>\n",
       "    </tr>\n",
       "    <tr>\n",
       "      <th>1</th>\n",
       "      <td>2</td>\n",
       "      <td>1</td>\n",
       "      <td>1</td>\n",
       "      <td>Cumings, Mrs. John Bradley (Florence Briggs Th...</td>\n",
       "      <td>female</td>\n",
       "      <td>38.0</td>\n",
       "      <td>1</td>\n",
       "      <td>0</td>\n",
       "      <td>PC 17599</td>\n",
       "      <td>71.2833</td>\n",
       "      <td>C85</td>\n",
       "      <td>C</td>\n",
       "    </tr>\n",
       "    <tr>\n",
       "      <th>2</th>\n",
       "      <td>3</td>\n",
       "      <td>1</td>\n",
       "      <td>3</td>\n",
       "      <td>Heikkinen, Miss. Laina</td>\n",
       "      <td>female</td>\n",
       "      <td>26.0</td>\n",
       "      <td>0</td>\n",
       "      <td>0</td>\n",
       "      <td>STON/O2. 3101282</td>\n",
       "      <td>7.9250</td>\n",
       "      <td>NaN</td>\n",
       "      <td>S</td>\n",
       "    </tr>\n",
       "    <tr>\n",
       "      <th>3</th>\n",
       "      <td>4</td>\n",
       "      <td>1</td>\n",
       "      <td>1</td>\n",
       "      <td>Futrelle, Mrs. Jacques Heath (Lily May Peel)</td>\n",
       "      <td>female</td>\n",
       "      <td>35.0</td>\n",
       "      <td>1</td>\n",
       "      <td>0</td>\n",
       "      <td>113803</td>\n",
       "      <td>53.1000</td>\n",
       "      <td>C123</td>\n",
       "      <td>S</td>\n",
       "    </tr>\n",
       "    <tr>\n",
       "      <th>4</th>\n",
       "      <td>5</td>\n",
       "      <td>0</td>\n",
       "      <td>3</td>\n",
       "      <td>Allen, Mr. William Henry</td>\n",
       "      <td>male</td>\n",
       "      <td>35.0</td>\n",
       "      <td>0</td>\n",
       "      <td>0</td>\n",
       "      <td>373450</td>\n",
       "      <td>8.0500</td>\n",
       "      <td>NaN</td>\n",
       "      <td>S</td>\n",
       "    </tr>\n",
       "  </tbody>\n",
       "</table>\n",
       "</div>"
      ],
      "text/plain": [
       "   PassengerId  Survived  Pclass  \\\n",
       "0            1         0       3   \n",
       "1            2         1       1   \n",
       "2            3         1       3   \n",
       "3            4         1       1   \n",
       "4            5         0       3   \n",
       "\n",
       "                                                Name     Sex   Age  SibSp  \\\n",
       "0                            Braund, Mr. Owen Harris    male  22.0      1   \n",
       "1  Cumings, Mrs. John Bradley (Florence Briggs Th...  female  38.0      1   \n",
       "2                             Heikkinen, Miss. Laina  female  26.0      0   \n",
       "3       Futrelle, Mrs. Jacques Heath (Lily May Peel)  female  35.0      1   \n",
       "4                           Allen, Mr. William Henry    male  35.0      0   \n",
       "\n",
       "   Parch            Ticket     Fare Cabin Embarked  \n",
       "0      0         A/5 21171   7.2500   NaN        S  \n",
       "1      0          PC 17599  71.2833   C85        C  \n",
       "2      0  STON/O2. 3101282   7.9250   NaN        S  \n",
       "3      0            113803  53.1000  C123        S  \n",
       "4      0            373450   8.0500   NaN        S  "
      ]
     },
     "execution_count": 4,
     "metadata": {},
     "output_type": "execute_result"
    }
   ],
   "source": [
    "import pandas as pd\n",
    "import numpy as np\n",
    "\n",
    "df_titanic = pd.read_csv('../dataset/train.csv')\n",
    "df_titanic.head()"
   ]
  },
  {
   "cell_type": "code",
   "execution_count": 5,
   "metadata": {},
   "outputs": [
    {
     "data": {
      "text/plain": [
       "0    549\n",
       "1    342\n",
       "Name: Survived, dtype: int64"
      ]
     },
     "execution_count": 5,
     "metadata": {},
     "output_type": "execute_result"
    }
   ],
   "source": [
    "df_titanic.Survived.value_counts()"
   ]
  },
  {
   "cell_type": "code",
   "execution_count": 6,
   "metadata": {},
   "outputs": [],
   "source": [
    "df_titanic['Age']=df_titanic['Age'].fillna(0)"
   ]
  },
  {
   "cell_type": "code",
   "execution_count": 7,
   "metadata": {},
   "outputs": [
    {
     "data": {
      "text/html": [
       "<div>\n",
       "<style scoped>\n",
       "    .dataframe tbody tr th:only-of-type {\n",
       "        vertical-align: middle;\n",
       "    }\n",
       "\n",
       "    .dataframe tbody tr th {\n",
       "        vertical-align: top;\n",
       "    }\n",
       "\n",
       "    .dataframe thead th {\n",
       "        text-align: right;\n",
       "    }\n",
       "</style>\n",
       "<table border=\"1\" class=\"dataframe\">\n",
       "  <thead>\n",
       "    <tr style=\"text-align: right;\">\n",
       "      <th></th>\n",
       "      <th>Pclass</th>\n",
       "      <th>Age</th>\n",
       "      <th>SibSp</th>\n",
       "      <th>Parch</th>\n",
       "      <th>Fare</th>\n",
       "      <th>Sex_female</th>\n",
       "      <th>Sex_male</th>\n",
       "      <th>em_C</th>\n",
       "      <th>em_Q</th>\n",
       "      <th>em_S</th>\n",
       "    </tr>\n",
       "  </thead>\n",
       "  <tbody>\n",
       "    <tr>\n",
       "      <th>0</th>\n",
       "      <td>3</td>\n",
       "      <td>22.0</td>\n",
       "      <td>1</td>\n",
       "      <td>0</td>\n",
       "      <td>7.2500</td>\n",
       "      <td>0</td>\n",
       "      <td>1</td>\n",
       "      <td>0</td>\n",
       "      <td>0</td>\n",
       "      <td>1</td>\n",
       "    </tr>\n",
       "    <tr>\n",
       "      <th>1</th>\n",
       "      <td>1</td>\n",
       "      <td>38.0</td>\n",
       "      <td>1</td>\n",
       "      <td>0</td>\n",
       "      <td>71.2833</td>\n",
       "      <td>1</td>\n",
       "      <td>0</td>\n",
       "      <td>1</td>\n",
       "      <td>0</td>\n",
       "      <td>0</td>\n",
       "    </tr>\n",
       "    <tr>\n",
       "      <th>2</th>\n",
       "      <td>3</td>\n",
       "      <td>26.0</td>\n",
       "      <td>0</td>\n",
       "      <td>0</td>\n",
       "      <td>7.9250</td>\n",
       "      <td>1</td>\n",
       "      <td>0</td>\n",
       "      <td>0</td>\n",
       "      <td>0</td>\n",
       "      <td>1</td>\n",
       "    </tr>\n",
       "    <tr>\n",
       "      <th>3</th>\n",
       "      <td>1</td>\n",
       "      <td>35.0</td>\n",
       "      <td>1</td>\n",
       "      <td>0</td>\n",
       "      <td>53.1000</td>\n",
       "      <td>1</td>\n",
       "      <td>0</td>\n",
       "      <td>0</td>\n",
       "      <td>0</td>\n",
       "      <td>1</td>\n",
       "    </tr>\n",
       "    <tr>\n",
       "      <th>4</th>\n",
       "      <td>3</td>\n",
       "      <td>35.0</td>\n",
       "      <td>0</td>\n",
       "      <td>0</td>\n",
       "      <td>8.0500</td>\n",
       "      <td>0</td>\n",
       "      <td>1</td>\n",
       "      <td>0</td>\n",
       "      <td>0</td>\n",
       "      <td>1</td>\n",
       "    </tr>\n",
       "  </tbody>\n",
       "</table>\n",
       "</div>"
      ],
      "text/plain": [
       "   Pclass   Age  SibSp  Parch     Fare  Sex_female  Sex_male  em_C  em_Q  em_S\n",
       "0       3  22.0      1      0   7.2500           0         1     0     0     1\n",
       "1       1  38.0      1      0  71.2833           1         0     1     0     0\n",
       "2       3  26.0      0      0   7.9250           1         0     0     0     1\n",
       "3       1  35.0      1      0  53.1000           1         0     0     0     1\n",
       "4       3  35.0      0      0   8.0500           0         1     0     0     1"
      ]
     },
     "execution_count": 7,
     "metadata": {},
     "output_type": "execute_result"
    }
   ],
   "source": [
    "sex = pd.get_dummies(df_titanic.Sex,prefix='Sex')\n",
    "em = pd.get_dummies(df_titanic.Embarked,prefix=\"em\")\n",
    "\n",
    "frames=[df_titanic,sex,em]\n",
    "df_titanic=pd.concat(frames,axis=1)\n",
    "\n",
    "y=df_titanic.Survived.values\n",
    "# y.reshape(-1,1)\n",
    "\n",
    "X = df_titanic.drop(['PassengerId','Survived','Name','Ticket','Cabin','Sex','Embarked'],axis=1)\n",
    "X.head()"
   ]
  },
  {
   "cell_type": "code",
   "execution_count": 8,
   "metadata": {},
   "outputs": [
    {
     "name": "stdout",
     "output_type": "stream",
     "text": [
      "(712, 10) (179, 10)\n"
     ]
    }
   ],
   "source": [
    "from sklearn.model_selection import train_test_split\n",
    "X_train,X_test,y_train,y_test = train_test_split(X,y,test_size=0.2,random_state=0)\n",
    "print(X_train.shape,X_test.shape)"
   ]
  },
  {
   "cell_type": "code",
   "execution_count": 9,
   "metadata": {},
   "outputs": [],
   "source": [
    "from sklearn.preprocessing import StandardScaler\n",
    "scalar=StandardScaler()\n",
    "X_train=scalar.fit_transform(X_train)\n",
    "X_test=scalar.transform(X_test)"
   ]
  },
  {
   "cell_type": "code",
   "execution_count": 13,
   "metadata": {},
   "outputs": [
    {
     "data": {
      "text/plain": [
       "(712, 10)"
      ]
     },
     "execution_count": 13,
     "metadata": {},
     "output_type": "execute_result"
    }
   ],
   "source": [
    "X_train.shape"
   ]
  },
  {
   "cell_type": "code",
   "execution_count": 10,
   "metadata": {},
   "outputs": [
    {
     "name": "stdout",
     "output_type": "stream",
     "text": [
      "逻辑回归测试准确率:81.56%\n"
     ]
    }
   ],
   "source": [
    "from sklearn.linear_model import LogisticRegression\n",
    "lr = LogisticRegression()\n",
    "lr.fit(X_train,y_train)\n",
    "\n",
    "print('逻辑回归测试准确率:{:.2f}%'.format(lr.score(X_test,y_test)*100))"
   ]
  },
  {
   "cell_type": "code",
   "execution_count": 11,
   "metadata": {},
   "outputs": [],
   "source": [
    "import keras\n",
    "from keras.models import Sequential\n",
    "from keras.layers import Dense"
   ]
  },
  {
   "cell_type": "code",
   "execution_count": 14,
   "metadata": {},
   "outputs": [],
   "source": [
    "# 单隐层\n",
    "ann = Sequential()\n",
    "ann.add(Dense(units=11,input_dim=10,activation='relu'))\n",
    "ann.add(Dense(units=22,activation='relu'))\n",
    "ann.add(Dense(units=1,activation='sigmoid'))\n",
    "ann.compile(optimizer='adam',loss='binary_crossentropy',metrics=['acc'])"
   ]
  },
  {
   "cell_type": "code",
   "execution_count": 15,
   "metadata": {},
   "outputs": [
    {
     "name": "stdout",
     "output_type": "stream",
     "text": [
      "Epoch 1/30\n",
      "12/12 [==============================] - 0s 15ms/step - loss: 0.6797 - acc: 0.6011 - val_loss: 0.6362 - val_acc: 0.7207\n",
      "Epoch 2/30\n",
      "12/12 [==============================] - 0s 2ms/step - loss: 0.6464 - acc: 0.6756 - val_loss: 0.6004 - val_acc: 0.7821\n",
      "Epoch 3/30\n",
      "12/12 [==============================] - 0s 2ms/step - loss: 0.6171 - acc: 0.7177 - val_loss: 0.5675 - val_acc: 0.8101\n",
      "Epoch 4/30\n",
      "12/12 [==============================] - 0s 2ms/step - loss: 0.5904 - acc: 0.7303 - val_loss: 0.5397 - val_acc: 0.8156\n",
      "Epoch 5/30\n",
      "12/12 [==============================] - 0s 2ms/step - loss: 0.5663 - acc: 0.7388 - val_loss: 0.5128 - val_acc: 0.8156\n",
      "Epoch 6/30\n",
      "12/12 [==============================] - 0s 2ms/step - loss: 0.5452 - acc: 0.7416 - val_loss: 0.4887 - val_acc: 0.8101\n",
      "Epoch 7/30\n",
      "12/12 [==============================] - 0s 2ms/step - loss: 0.5260 - acc: 0.7584 - val_loss: 0.4707 - val_acc: 0.8045\n",
      "Epoch 8/30\n",
      "12/12 [==============================] - 0s 2ms/step - loss: 0.5114 - acc: 0.7640 - val_loss: 0.4552 - val_acc: 0.7933\n",
      "Epoch 9/30\n",
      "12/12 [==============================] - 0s 2ms/step - loss: 0.5000 - acc: 0.7865 - val_loss: 0.4424 - val_acc: 0.7877\n",
      "Epoch 10/30\n",
      "12/12 [==============================] - 0s 2ms/step - loss: 0.4904 - acc: 0.7865 - val_loss: 0.4328 - val_acc: 0.7989\n",
      "Epoch 11/30\n",
      "12/12 [==============================] - 0s 2ms/step - loss: 0.4829 - acc: 0.7921 - val_loss: 0.4250 - val_acc: 0.7989\n",
      "Epoch 12/30\n",
      "12/12 [==============================] - 0s 2ms/step - loss: 0.4775 - acc: 0.7907 - val_loss: 0.4182 - val_acc: 0.7989\n",
      "Epoch 13/30\n",
      "12/12 [==============================] - 0s 2ms/step - loss: 0.4722 - acc: 0.7893 - val_loss: 0.4143 - val_acc: 0.7989\n",
      "Epoch 14/30\n",
      "12/12 [==============================] - 0s 2ms/step - loss: 0.4684 - acc: 0.7907 - val_loss: 0.4127 - val_acc: 0.7933\n",
      "Epoch 15/30\n",
      "12/12 [==============================] - 0s 2ms/step - loss: 0.4650 - acc: 0.7978 - val_loss: 0.4117 - val_acc: 0.7989\n",
      "Epoch 16/30\n",
      "12/12 [==============================] - 0s 2ms/step - loss: 0.4626 - acc: 0.7978 - val_loss: 0.4107 - val_acc: 0.7989\n",
      "Epoch 17/30\n",
      "12/12 [==============================] - 0s 2ms/step - loss: 0.4600 - acc: 0.7963 - val_loss: 0.4090 - val_acc: 0.7989\n",
      "Epoch 18/30\n",
      "12/12 [==============================] - 0s 2ms/step - loss: 0.4590 - acc: 0.7963 - val_loss: 0.4082 - val_acc: 0.8101\n",
      "Epoch 19/30\n",
      "12/12 [==============================] - 0s 2ms/step - loss: 0.4567 - acc: 0.8006 - val_loss: 0.4072 - val_acc: 0.8101\n",
      "Epoch 20/30\n",
      "12/12 [==============================] - 0s 2ms/step - loss: 0.4550 - acc: 0.8020 - val_loss: 0.4054 - val_acc: 0.8101\n",
      "Epoch 21/30\n",
      "12/12 [==============================] - 0s 2ms/step - loss: 0.4532 - acc: 0.8020 - val_loss: 0.4056 - val_acc: 0.8101\n",
      "Epoch 22/30\n",
      "12/12 [==============================] - 0s 2ms/step - loss: 0.4519 - acc: 0.8006 - val_loss: 0.4043 - val_acc: 0.8101\n",
      "Epoch 23/30\n",
      "12/12 [==============================] - 0s 2ms/step - loss: 0.4501 - acc: 0.7992 - val_loss: 0.4033 - val_acc: 0.8101\n",
      "Epoch 24/30\n",
      "12/12 [==============================] - 0s 2ms/step - loss: 0.4494 - acc: 0.7978 - val_loss: 0.4009 - val_acc: 0.8101\n",
      "Epoch 25/30\n",
      "12/12 [==============================] - 0s 2ms/step - loss: 0.4486 - acc: 0.7949 - val_loss: 0.4008 - val_acc: 0.8101\n",
      "Epoch 26/30\n",
      "12/12 [==============================] - 0s 2ms/step - loss: 0.4471 - acc: 0.7978 - val_loss: 0.3989 - val_acc: 0.8101\n",
      "Epoch 27/30\n",
      "12/12 [==============================] - 0s 2ms/step - loss: 0.4457 - acc: 0.8062 - val_loss: 0.3982 - val_acc: 0.8101\n",
      "Epoch 28/30\n",
      "12/12 [==============================] - 0s 2ms/step - loss: 0.4450 - acc: 0.8076 - val_loss: 0.3978 - val_acc: 0.8101\n",
      "Epoch 29/30\n",
      "12/12 [==============================] - 0s 2ms/step - loss: 0.4440 - acc: 0.8062 - val_loss: 0.3978 - val_acc: 0.8101\n",
      "Epoch 30/30\n",
      "12/12 [==============================] - 0s 2ms/step - loss: 0.4430 - acc: 0.8048 - val_loss: 0.3965 - val_acc: 0.8101\n"
     ]
    }
   ],
   "source": [
    "history = ann.fit(X_train,y_train,epochs=30,batch_size=64,validation_data=(X_test,y_test))"
   ]
  },
  {
   "cell_type": "code",
   "execution_count": 20,
   "metadata": {},
   "outputs": [],
   "source": [
    "from sklearn.metrics import classification_report\n",
    "# 使用分类报告\n",
    "def show_classfication_report(ann,X_test,y_test):\n",
    "    y_pred = ann.predict(X_test,batch_size=10)\n",
    "    y_pred = np.round(y_pred)\n",
    "    # y_test=y_test.values\n",
    "    y_test=y_test.reshape(len(y_test),1)\n",
    "    print(classification_report(y_test,y_pred,labels=[0,1]))"
   ]
  },
  {
   "cell_type": "code",
   "execution_count": 16,
   "metadata": {},
   "outputs": [],
   "source": [
    "import matplotlib.pyplot as plt\n",
    "\n",
    "def show_history(history):\n",
    "    loss=history.history['loss']\n",
    "    val_loss=history.history['val_loss']\n",
    "    epochs=range(1,len(loss)+1)\n",
    "    plt.figure(figsize=(12,4))\n",
    "    plt.subplot(1,2,1)\n",
    "    plt.plot(epochs,loss,'bo',label=\"训练集损失\")\n",
    "    plt.plot(epochs,val_loss,'b',label=\"验证集损失\")\n",
    "    plt.title('训练集和验证集损失')\n",
    "    plt.xlabel('训练轮次')\n",
    "    plt.ylabel('损失')\n",
    "    plt.legend()\n",
    "    acc=history.history['acc']\n",
    "    val_acc=history.history['val_acc']\n",
    "    plt.subplot(1,2,2)\n",
    "    plt.plot(epochs,acc,'bo',label=\"训练集准确率\")\n",
    "    plt.plot(epochs,val_acc,'b',label=\"验证集准确率\")\n",
    "    plt.title('训练集和验证集准确率')\n",
    "    plt.xlabel('训练轮次')\n",
    "    plt.ylabel('准确率')\n",
    "    plt.legend()"
   ]
  },
  {
   "cell_type": "code",
   "execution_count": 18,
   "metadata": {},
   "outputs": [
    {
     "data": {
      "image/png": "[encoded data removed]",
      "text/plain": [
       "<Figure size 864x288 with 2 Axes>"
      ]
     },
     "metadata": {
      "needs_background": "light"
     },
     "output_type": "display_data"
    }
   ],
   "source": [
    "show_history(history)"
   ]
  },
  {
   "cell_type": "code",
   "execution_count": 21,
   "metadata": {},
   "outputs": [
    {
     "name": "stdout",
     "output_type": "stream",
     "text": [
      "              precision    recall  f1-score   support\n",
      "\n",
      "           0       0.82      0.88      0.85       110\n",
      "           1       0.79      0.70      0.74        69\n",
      "\n",
      "    accuracy                           0.81       179\n",
      "   macro avg       0.80      0.79      0.79       179\n",
      "weighted avg       0.81      0.81      0.81       179\n",
      "\n"
     ]
    }
   ],
   "source": [
    "show_classfication_report(ann,X_test,y_test)"
   ]
  },
  {
   "cell_type": "markdown",
   "metadata": {},
   "source": [
    "# 深度神经网络"
   ]
  },
  {
   "cell_type": "code",
   "execution_count": 22,
   "metadata": {},
   "outputs": [],
   "source": [
    "from sklearn.metrics import confusion_matrix\n",
    "import seaborn as sns\n",
    "\n",
    "# 画出混淆矩阵\n",
    "def show_confusion_matrix(ann,X_test,y_test):\n",
    "    y_pred = ann.predict(X_test,batch_size=10)\n",
    "    y_pred=np.round(y_pred)\n",
    "    cm=confusion_matrix(y_test,y_pred)\n",
    "    plt.title('混淆矩阵')\n",
    "    sns.heatmap(cm,annot=True,cmap='Blues',fmt='d',cbar=False)"
   ]
  },
  {
   "cell_type": "code",
   "execution_count": 23,
   "metadata": {},
   "outputs": [
    {
     "name": "stdout",
     "output_type": "stream",
     "text": [
      "Epoch 1/30\n",
      "12/12 [==============================] - 0s 5ms/step - loss: 0.4422 - acc: 0.8076 - val_loss: 0.3960 - val_acc: 0.8101\n",
      "Epoch 2/30\n",
      "12/12 [==============================] - 0s 2ms/step - loss: 0.4409 - acc: 0.8090 - val_loss: 0.3977 - val_acc: 0.8101\n",
      "Epoch 3/30\n",
      "12/12 [==============================] - 0s 2ms/step - loss: 0.4402 - acc: 0.8104 - val_loss: 0.3958 - val_acc: 0.8101\n",
      "Epoch 4/30\n",
      "12/12 [==============================] - 0s 2ms/step - loss: 0.4399 - acc: 0.8076 - val_loss: 0.3937 - val_acc: 0.8101\n",
      "Epoch 5/30\n",
      "12/12 [==============================] - 0s 2ms/step - loss: 0.4388 - acc: 0.8062 - val_loss: 0.3932 - val_acc: 0.8101\n",
      "Epoch 6/30\n",
      "12/12 [==============================] - 0s 2ms/step - loss: 0.4374 - acc: 0.8076 - val_loss: 0.3942 - val_acc: 0.8101\n",
      "Epoch 7/30\n",
      "12/12 [==============================] - 0s 2ms/step - loss: 0.4370 - acc: 0.8076 - val_loss: 0.3952 - val_acc: 0.8156\n",
      "Epoch 8/30\n",
      "12/12 [==============================] - 0s 2ms/step - loss: 0.4363 - acc: 0.8034 - val_loss: 0.3944 - val_acc: 0.8156\n",
      "Epoch 9/30\n",
      "12/12 [==============================] - 0s 2ms/step - loss: 0.4358 - acc: 0.8104 - val_loss: 0.3934 - val_acc: 0.8156\n",
      "Epoch 10/30\n",
      "12/12 [==============================] - 0s 2ms/step - loss: 0.4346 - acc: 0.8090 - val_loss: 0.3929 - val_acc: 0.8101\n",
      "Epoch 11/30\n",
      "12/12 [==============================] - 0s 2ms/step - loss: 0.4336 - acc: 0.8062 - val_loss: 0.3951 - val_acc: 0.8156\n",
      "Epoch 12/30\n",
      "12/12 [==============================] - 0s 2ms/step - loss: 0.4332 - acc: 0.8062 - val_loss: 0.3966 - val_acc: 0.8156\n",
      "Epoch 13/30\n",
      "12/12 [==============================] - 0s 2ms/step - loss: 0.4326 - acc: 0.8090 - val_loss: 0.3982 - val_acc: 0.8156\n",
      "Epoch 14/30\n",
      "12/12 [==============================] - 0s 2ms/step - loss: 0.4321 - acc: 0.8104 - val_loss: 0.3970 - val_acc: 0.8101\n",
      "Epoch 15/30\n",
      "12/12 [==============================] - 0s 2ms/step - loss: 0.4314 - acc: 0.8090 - val_loss: 0.3974 - val_acc: 0.8101\n",
      "Epoch 16/30\n",
      "12/12 [==============================] - 0s 2ms/step - loss: 0.4306 - acc: 0.8090 - val_loss: 0.3960 - val_acc: 0.8045\n",
      "Epoch 17/30\n",
      "12/12 [==============================] - 0s 2ms/step - loss: 0.4298 - acc: 0.8076 - val_loss: 0.3957 - val_acc: 0.8045\n",
      "Epoch 18/30\n",
      "12/12 [==============================] - 0s 2ms/step - loss: 0.4293 - acc: 0.8090 - val_loss: 0.3949 - val_acc: 0.8101\n",
      "Epoch 19/30\n",
      "12/12 [==============================] - 0s 2ms/step - loss: 0.4289 - acc: 0.8062 - val_loss: 0.3936 - val_acc: 0.8101\n",
      "Epoch 20/30\n",
      "12/12 [==============================] - 0s 2ms/step - loss: 0.4282 - acc: 0.8076 - val_loss: 0.3954 - val_acc: 0.8101\n",
      "Epoch 21/30\n",
      "12/12 [==============================] - 0s 2ms/step - loss: 0.4277 - acc: 0.8076 - val_loss: 0.3961 - val_acc: 0.8156\n",
      "Epoch 22/30\n",
      "12/12 [==============================] - 0s 2ms/step - loss: 0.4273 - acc: 0.8062 - val_loss: 0.3972 - val_acc: 0.8156\n",
      "Epoch 23/30\n",
      "12/12 [==============================] - 0s 2ms/step - loss: 0.4270 - acc: 0.8076 - val_loss: 0.3969 - val_acc: 0.8156\n",
      "Epoch 24/30\n",
      "12/12 [==============================] - 0s 2ms/step - loss: 0.4264 - acc: 0.8104 - val_loss: 0.3996 - val_acc: 0.8156\n",
      "Epoch 25/30\n",
      "12/12 [==============================] - 0s 2ms/step - loss: 0.4263 - acc: 0.8076 - val_loss: 0.3988 - val_acc: 0.8101\n",
      "Epoch 26/30\n",
      "12/12 [==============================] - 0s 2ms/step - loss: 0.4253 - acc: 0.8076 - val_loss: 0.3994 - val_acc: 0.8101\n",
      "Epoch 27/30\n",
      "12/12 [==============================] - 0s 2ms/step - loss: 0.4249 - acc: 0.8090 - val_loss: 0.4006 - val_acc: 0.8156\n",
      "Epoch 28/30\n",
      "12/12 [==============================] - 0s 2ms/step - loss: 0.4248 - acc: 0.8104 - val_loss: 0.4004 - val_acc: 0.8101\n",
      "Epoch 29/30\n",
      "12/12 [==============================] - 0s 2ms/step - loss: 0.4242 - acc: 0.8104 - val_loss: 0.4009 - val_acc: 0.8101\n",
      "Epoch 30/30\n",
      "12/12 [==============================] - 0s 2ms/step - loss: 0.4237 - acc: 0.8062 - val_loss: 0.4000 - val_acc: 0.8101\n"
     ]
    }
   ],
   "source": [
    "ann2= Sequential()\n",
    "ann2.add(Dense(units=11,input_dim=10,activation='relu'))\n",
    "ann2.add(Dense(units=22,activation='relu'))\n",
    "ann2.add(Dense(units=44,activation='relu'))\n",
    "ann2.add(Dense(units=88,activation='relu'))\n",
    "ann2.add(Dense(units=176,activation='relu'))\n",
    "ann2.add(Dense(units=1,activation='sigmoid'))\n",
    "\n",
    "ann2.compile(optimizer='rmsprop',loss=\"binary_crossentropy\",metrics=['acc'])\n",
    "history2 = ann.fit(X_train,y_train,batch_size=64,epochs=30,validation_data=(X_test,y_test))"
   ]
  },
  {
   "cell_type": "code",
   "execution_count": 24,
   "metadata": {},
   "outputs": [
    {
     "data": {
      "image/png": "[encoded data removed]",
      "text/plain": [
       "<Figure size 864x288 with 2 Axes>"
      ]
     },
     "metadata": {
      "needs_background": "light"
     },
     "output_type": "display_data"
    }
   ],
   "source": [
    "show_history(history2)"
   ]
  },
  {
   "cell_type": "code",
   "execution_count": 37,
   "metadata": {},
   "outputs": [
    {
     "name": "stdout",
     "output_type": "stream",
     "text": [
      "Epoch 1/30\n",
      "3/3 [==============================] - 0s 50ms/step - loss: 0.7538 - acc: 0.5531 - val_loss: 0.6701 - val_acc: 0.6145\n",
      "Epoch 2/30\n",
      "3/3 [==============================] - 0s 6ms/step - loss: 0.7515 - acc: 0.5475 - val_loss: 0.6599 - val_acc: 0.6480\n",
      "Epoch 3/30\n",
      "3/3 [==============================] - 0s 6ms/step - loss: 0.7396 - acc: 0.5587 - val_loss: 0.6496 - val_acc: 0.7821\n",
      "Epoch 4/30\n",
      "3/3 [==============================] - 0s 6ms/step - loss: 0.7150 - acc: 0.5978 - val_loss: 0.6416 - val_acc: 0.8045\n",
      "Epoch 5/30\n",
      "3/3 [==============================] - 0s 8ms/step - loss: 0.6890 - acc: 0.6034 - val_loss: 0.6341 - val_acc: 0.7989\n",
      "Epoch 6/30\n",
      "3/3 [==============================] - 0s 6ms/step - loss: 0.6866 - acc: 0.6313 - val_loss: 0.6277 - val_acc: 0.7989\n",
      "Epoch 7/30\n",
      "3/3 [==============================] - 0s 7ms/step - loss: 0.7216 - acc: 0.6034 - val_loss: 0.6213 - val_acc: 0.7989\n",
      "Epoch 8/30\n",
      "3/3 [==============================] - 0s 7ms/step - loss: 0.6592 - acc: 0.6089 - val_loss: 0.6149 - val_acc: 0.7989\n",
      "Epoch 9/30\n",
      "3/3 [==============================] - 0s 7ms/step - loss: 0.6529 - acc: 0.6425 - val_loss: 0.6083 - val_acc: 0.7989\n",
      "Epoch 10/30\n",
      "3/3 [==============================] - 0s 7ms/step - loss: 0.6711 - acc: 0.6536 - val_loss: 0.6024 - val_acc: 0.7933\n",
      "Epoch 11/30\n",
      "3/3 [==============================] - 0s 6ms/step - loss: 0.6053 - acc: 0.7207 - val_loss: 0.5958 - val_acc: 0.7877\n",
      "Epoch 12/30\n",
      "3/3 [==============================] - 0s 6ms/step - loss: 0.6526 - acc: 0.6648 - val_loss: 0.5892 - val_acc: 0.7877\n",
      "Epoch 13/30\n",
      "3/3 [==============================] - 0s 6ms/step - loss: 0.6359 - acc: 0.7151 - val_loss: 0.5830 - val_acc: 0.7877\n",
      "Epoch 14/30\n",
      "3/3 [==============================] - 0s 6ms/step - loss: 0.6513 - acc: 0.6816 - val_loss: 0.5767 - val_acc: 0.7933\n",
      "Epoch 15/30\n",
      "3/3 [==============================] - 0s 7ms/step - loss: 0.6283 - acc: 0.6872 - val_loss: 0.5703 - val_acc: 0.7989\n",
      "Epoch 16/30\n",
      "3/3 [==============================] - 0s 8ms/step - loss: 0.6180 - acc: 0.7095 - val_loss: 0.5640 - val_acc: 0.7989\n",
      "Epoch 17/30\n",
      "3/3 [==============================] - 0s 6ms/step - loss: 0.6816 - acc: 0.6034 - val_loss: 0.5576 - val_acc: 0.7989\n",
      "Epoch 18/30\n",
      "3/3 [==============================] - 0s 8ms/step - loss: 0.6286 - acc: 0.6592 - val_loss: 0.5520 - val_acc: 0.7989\n",
      "Epoch 19/30\n",
      "3/3 [==============================] - 0s 10ms/step - loss: 0.6360 - acc: 0.6872 - val_loss: 0.5467 - val_acc: 0.7989\n",
      "Epoch 20/30\n",
      "3/3 [==============================] - 0s 7ms/step - loss: 0.5845 - acc: 0.6872 - val_loss: 0.5410 - val_acc: 0.7989\n",
      "Epoch 21/30\n",
      "3/3 [==============================] - 0s 6ms/step - loss: 0.5956 - acc: 0.6872 - val_loss: 0.5351 - val_acc: 0.7989\n",
      "Epoch 22/30\n",
      "3/3 [==============================] - 0s 6ms/step - loss: 0.6485 - acc: 0.6816 - val_loss: 0.5300 - val_acc: 0.7989\n",
      "Epoch 23/30\n",
      "3/3 [==============================] - 0s 6ms/step - loss: 0.5612 - acc: 0.7263 - val_loss: 0.5245 - val_acc: 0.7989\n",
      "Epoch 24/30\n",
      "3/3 [==============================] - 0s 6ms/step - loss: 0.5538 - acc: 0.7207 - val_loss: 0.5180 - val_acc: 0.7989\n",
      "Epoch 25/30\n",
      "3/3 [==============================] - 0s 6ms/step - loss: 0.5618 - acc: 0.7318 - val_loss: 0.5109 - val_acc: 0.8101\n",
      "Epoch 26/30\n",
      "3/3 [==============================] - 0s 5ms/step - loss: 0.5735 - acc: 0.7151 - val_loss: 0.5046 - val_acc: 0.8045\n",
      "Epoch 27/30\n",
      "3/3 [==============================] - 0s 6ms/step - loss: 0.6156 - acc: 0.7318 - val_loss: 0.4996 - val_acc: 0.8045\n",
      "Epoch 28/30\n",
      "3/3 [==============================] - 0s 6ms/step - loss: 0.5411 - acc: 0.7430 - val_loss: 0.4941 - val_acc: 0.8045\n",
      "Epoch 29/30\n",
      "3/3 [==============================] - 0s 6ms/step - loss: 0.5949 - acc: 0.7542 - val_loss: 0.4889 - val_acc: 0.8045\n",
      "Epoch 30/30\n",
      "3/3 [==============================] - 0s 6ms/step - loss: 0.5558 - acc: 0.7263 - val_loss: 0.4843 - val_acc: 0.8045\n"
     ]
    }
   ],
   "source": [
    "# 在神经网络中增加一些Dropout 层，并重新训练它\n",
    "from keras.layers import Dropout\n",
    "ann3= Sequential()\n",
    "ann3.add(Dense(units=11,input_dim=10,activation='relu'))\n",
    "ann3.add(Dense(units=22,activation='relu'))\n",
    "ann3.add(Dropout(0.5))\n",
    "ann3.add(Dense(units=44,activation='relu'))\n",
    "ann3.add(Dropout(0.5))\n",
    "ann3.add(Dense(units=88,activation='relu'))\n",
    "ann3.add(Dropout(0.5))\n",
    "ann3.add(Dense(units=1,activation='sigmoid'))\n",
    "ann3.compile(optimizer='adam',loss=\"binary_crossentropy\",metrics=['acc'])\n",
    "history3=ann3.fit(X_test,y_test,batch_size=64,epochs=30,validation_data=(X_test,y_test))"
   ]
  },
  {
   "cell_type": "code",
   "execution_count": 35,
   "metadata": {},
   "outputs": [
    {
     "data": {
      "image/png": "[encoded data removed]",
      "text/plain": [
       "<Figure size 864x288 with 2 Axes>"
      ]
     },
     "metadata": {
      "needs_background": "light"
     },
     "output_type": "display_data"
    }
   ],
   "source": [
    "show_history(history3)"
   ]
  },
  {
   "cell_type": "code",
   "execution_count": null,
   "metadata": {},
   "outputs": [],
   "source": []
  }
 ],
 "metadata": {
  "interpreter": {
   "hash": "ef7f9a8012d9131766e31894c279374cc63c73121ed4db3b9e67a294a4bf0e74"
  },
  "kernelspec": {
   "display_name": "Python 3.8.8 64-bit ('base': conda)",
   "language": "python",
   "name": "python3"
  },
  "language_info": {
   "codemirror_mode": {
    "name": "ipython",
    "version": 3
   },
   "file_extension": ".py",
   "mimetype": "text/x-python",
   "name": "python",
   "nbconvert_exporter": "python",
   "pygments_lexer": "ipython3",
   "version": "3.8.8"
  },
  "orig_nbformat": 4
 },
 "nbformat": 4,
 "nbformat_minor": 2
}
